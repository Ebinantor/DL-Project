{
  "cells": [
    {
      "cell_type": "code",
      "execution_count": null,
      "metadata": {
        "id": "OnYrpzn3P1pu"
      },
      "outputs": [],
      "source": [
        "from skimage.io import imread\n",
        "from skimage.transform import resize\n",
        "import os\n",
        "from keras.models import Sequential\n",
        "from keras.layers import Dense,Conv2D,MaxPool2D,Flatten"
      ]
    },
    {
      "cell_type": "code",
      "execution_count": null,
      "metadata": {
        "colab": {
          "base_uri": "https://localhost:8080/"
        },
        "id": "bD8ywCmNXZ82",
        "outputId": "1e9d46b7-b09a-41ff-fb2c-5e9db8ce4e9e"
      },
      "outputs": [
        {
          "output_type": "execute_result",
          "data": {
            "text/plain": [
              "['Ford', 'Audi', 'Bmw', 'Mercedes']"
            ]
          },
          "metadata": {},
          "execution_count": 2
        }
      ],
      "source": [
        "os.listdir(\"/content/drive/MyDrive/Luminar_Project/Car Brand Detection/test_sets\")"
      ]
    },
    {
      "cell_type": "code",
      "execution_count": null,
      "metadata": {
        "colab": {
          "base_uri": "https://localhost:8080/"
        },
        "id": "EmDA2_7NXZ5W",
        "outputId": "201d38a5-804e-4f57-cc70-9c8792f2e694"
      },
      "outputs": [
        {
          "output_type": "execute_result",
          "data": {
            "text/plain": [
              "['Bmw', 'Mercedes', 'Ford', 'Audi']"
            ]
          },
          "metadata": {},
          "execution_count": 3
        }
      ],
      "source": [
        "os.listdir(\"/content/drive/MyDrive/Luminar_Project/Car Brand Detection/training_sets\")"
      ]
    },
    {
      "cell_type": "code",
      "execution_count": null,
      "metadata": {
        "id": "8TCgI9UAXZ2q"
      },
      "outputs": [],
      "source": [
        "datapath=(\"/content/drive/MyDrive/Luminar_Project/Car Brand Detection/training_sets\")"
      ]
    },
    {
      "cell_type": "code",
      "execution_count": null,
      "metadata": {
        "colab": {
          "base_uri": "https://localhost:8080/"
        },
        "id": "AabO0jVUXZsk",
        "outputId": "ce3d5879-cdb8-4c1e-a285-0df2bcdc828f"
      },
      "outputs": [
        {
          "output_type": "stream",
          "name": "stdout",
          "text": [
            "Loaded..... Ford\n",
            "Loaded..... Audi\n",
            "Loaded..... Bmw\n",
            "Loaded..... Mercedes\n"
          ]
        }
      ],
      "source": [
        "X_train=[]\n",
        "y_train=[]\n",
        "categories=['Ford','Audi', 'Bmw', 'Mercedes']\n",
        "for dir in categories:\n",
        "  dirpath=os.path.join(datapath,dir)\n",
        "  images=os.listdir(dirpath)\n",
        "  for img in images:\n",
        "    imagepath=os.path.join(dirpath,img)\n",
        "    img_arr=imread(imagepath)\n",
        "    img_resize=resize(img_arr,(150,150,1))\n",
        "    X_train.append(img_resize)\n",
        "    y_train.append(categories.index(dir))\n",
        "  print(\"Loaded.....\",dir)"
      ]
    },
    {
      "cell_type": "code",
      "execution_count": null,
      "metadata": {
        "id": "x3cgGKHQXZdg"
      },
      "outputs": [],
      "source": [
        "datapath_test=\"/content/drive/MyDrive/Luminar_Project/Car Brand Detection/training_sets\""
      ]
    },
    {
      "cell_type": "code",
      "execution_count": null,
      "metadata": {
        "colab": {
          "base_uri": "https://localhost:8080/"
        },
        "id": "GN2Jj7M2QcKl",
        "outputId": "7d583555-1cbf-422a-90e8-a7b8b725623a"
      },
      "outputs": [
        {
          "output_type": "stream",
          "name": "stdout",
          "text": [
            "Loaded..... Ford\n",
            "Loaded..... Audi\n",
            "Loaded..... Bmw\n",
            "Loaded..... Mercedes\n"
          ]
        }
      ],
      "source": [
        "X_test=[]\n",
        "y_test=[]\n",
        "categories=['Ford','Audi', 'Bmw', 'Mercedes']\n",
        "for dir in categories:\n",
        "  dirpath=os.path.join(datapath_test,dir)\n",
        "  images=os.listdir(dirpath)\n",
        "  for img in images:\n",
        "    imagepath=os.path.join(dirpath,img)\n",
        "    #print(img path)\n",
        "    img_arr=imread(imagepath)\n",
        "    img_resize=resize(img_arr,(150,150,1))\n",
        "    X_test.append(img_resize)\n",
        "    y_test.append(categories.index(dir))\n",
        "  print(\"Loaded.....\",dir)"
      ]
    },
    {
      "cell_type": "code",
      "execution_count": null,
      "metadata": {
        "colab": {
          "base_uri": "https://localhost:8080/"
        },
        "id": "kmcJilU0Ziti",
        "outputId": "2c7d06de-7574-433a-de8c-7361f8b2465b"
      },
      "outputs": [
        {
          "output_type": "execute_result",
          "data": {
            "text/plain": [
              "(3977, 3977)"
            ]
          },
          "metadata": {},
          "execution_count": 8
        }
      ],
      "source": [
        "len(X_train),len(y_train)"
      ]
    },
    {
      "cell_type": "code",
      "execution_count": null,
      "metadata": {
        "colab": {
          "base_uri": "https://localhost:8080/"
        },
        "id": "Q0PDj5qHZikP",
        "outputId": "0eb6f7ad-4a44-40e5-8ded-fa2ca8e1528d"
      },
      "outputs": [
        {
          "output_type": "execute_result",
          "data": {
            "text/plain": [
              "(3977, 3977)"
            ]
          },
          "metadata": {},
          "execution_count": 9
        }
      ],
      "source": [
        "len(X_train),len(y_train)"
      ]
    },
    {
      "cell_type": "code",
      "execution_count": null,
      "metadata": {
        "id": "2_pD3vf5ZiYa"
      },
      "outputs": [],
      "source": [
        "import numpy as np\n",
        "X_train=np.array(X_train)\n",
        "X_test=np.array(X_test)\n",
        "y_train=np.array(y_train)\n",
        "y_test=np.array(y_test)"
      ]
    },
    {
      "cell_type": "code",
      "execution_count": null,
      "metadata": {
        "colab": {
          "base_uri": "https://localhost:8080/"
        },
        "id": "u5N3rw1_Zo6x",
        "outputId": "ed563caa-456f-4c2c-a748-156a8c907b03"
      },
      "outputs": [
        {
          "output_type": "execute_result",
          "data": {
            "text/plain": [
              "(3977, 150, 150, 1)"
            ]
          },
          "metadata": {},
          "execution_count": 11
        }
      ],
      "source": [
        "X_train.shape"
      ]
    },
    {
      "cell_type": "code",
      "execution_count": null,
      "metadata": {
        "colab": {
          "base_uri": "https://localhost:8080/"
        },
        "id": "uXCg4PlIZo3H",
        "outputId": "999fe93a-5258-4372-93e7-90a25e6b549a"
      },
      "outputs": [
        {
          "output_type": "execute_result",
          "data": {
            "text/plain": [
              "(3977, 150, 150, 1)"
            ]
          },
          "metadata": {},
          "execution_count": 12
        }
      ],
      "source": [
        "X_test.shape"
      ]
    },
    {
      "cell_type": "code",
      "execution_count": null,
      "metadata": {
        "colab": {
          "base_uri": "https://localhost:8080/"
        },
        "id": "JEYP7yA7ZuhM",
        "outputId": "23ab370a-9433-4f8e-81b7-ea02407c434c"
      },
      "outputs": [
        {
          "output_type": "stream",
          "name": "stderr",
          "text": [
            "/usr/local/lib/python3.10/dist-packages/keras/src/layers/convolutional/base_conv.py:107: UserWarning: Do not pass an `input_shape`/`input_dim` argument to a layer. When using Sequential models, prefer using an `Input(shape)` object as the first layer in the model instead.\n",
            "  super().__init__(activity_regularizer=activity_regularizer, **kwargs)\n"
          ]
        }
      ],
      "source": [
        "model=Sequential()\n",
        "model.add(Conv2D(32,(3,3),input_shape=(150,150,1),activation='relu'))\n",
        "model.add(MaxPool2D(2,2))\n",
        "model.add(Flatten())\n",
        "model.add(Dense(100,activation='relu'))\n",
        "model.add(Dense(4,activation='softmax'))"
      ]
    },
    {
      "cell_type": "code",
      "execution_count": null,
      "metadata": {
        "id": "lM0eYWRQZ2jk"
      },
      "outputs": [],
      "source": [
        "model.compile(optimizer='adam',loss='sparse_categorical_crossentropy',metrics=['accuracy'])"
      ]
    },
    {
      "cell_type": "code",
      "execution_count": null,
      "metadata": {
        "colab": {
          "base_uri": "https://localhost:8080/"
        },
        "id": "A84kUmaeZ8Ol",
        "outputId": "ffa15286-a854-48d3-d6ee-79a5fd2c66cc"
      },
      "outputs": [
        {
          "output_type": "stream",
          "name": "stdout",
          "text": [
            "Epoch 1/20\n",
            "\u001b[1m249/249\u001b[0m \u001b[32m━━━━━━━━━━━━━━━━━━━━\u001b[0m\u001b[37m\u001b[0m \u001b[1m9s\u001b[0m 15ms/step - accuracy: 0.3723 - loss: 2.6702\n",
            "Epoch 2/20\n",
            "\u001b[1m249/249\u001b[0m \u001b[32m━━━━━━━━━━━━━━━━━━━━\u001b[0m\u001b[37m\u001b[0m \u001b[1m5s\u001b[0m 9ms/step - accuracy: 0.7940 - loss: 0.6264\n",
            "Epoch 3/20\n",
            "\u001b[1m249/249\u001b[0m \u001b[32m━━━━━━━━━━━━━━━━━━━━\u001b[0m\u001b[37m\u001b[0m \u001b[1m2s\u001b[0m 8ms/step - accuracy: 0.9315 - loss: 0.2810\n",
            "Epoch 4/20\n",
            "\u001b[1m249/249\u001b[0m \u001b[32m━━━━━━━━━━━━━━━━━━━━\u001b[0m\u001b[37m\u001b[0m \u001b[1m2s\u001b[0m 9ms/step - accuracy: 0.9873 - loss: 0.1050\n",
            "Epoch 5/20\n",
            "\u001b[1m249/249\u001b[0m \u001b[32m━━━━━━━━━━━━━━━━━━━━\u001b[0m\u001b[37m\u001b[0m \u001b[1m2s\u001b[0m 9ms/step - accuracy: 0.9984 - loss: 0.0340\n",
            "Epoch 6/20\n",
            "\u001b[1m249/249\u001b[0m \u001b[32m━━━━━━━━━━━━━━━━━━━━\u001b[0m\u001b[37m\u001b[0m \u001b[1m2s\u001b[0m 9ms/step - accuracy: 1.0000 - loss: 0.0122\n",
            "Epoch 7/20\n",
            "\u001b[1m249/249\u001b[0m \u001b[32m━━━━━━━━━━━━━━━━━━━━\u001b[0m\u001b[37m\u001b[0m \u001b[1m3s\u001b[0m 9ms/step - accuracy: 1.0000 - loss: 0.0062\n",
            "Epoch 8/20\n",
            "\u001b[1m249/249\u001b[0m \u001b[32m━━━━━━━━━━━━━━━━━━━━\u001b[0m\u001b[37m\u001b[0m \u001b[1m2s\u001b[0m 9ms/step - accuracy: 1.0000 - loss: 0.0038\n",
            "Epoch 9/20\n",
            "\u001b[1m249/249\u001b[0m \u001b[32m━━━━━━━━━━━━━━━━━━━━\u001b[0m\u001b[37m\u001b[0m \u001b[1m3s\u001b[0m 8ms/step - accuracy: 1.0000 - loss: 0.0026\n",
            "Epoch 10/20\n",
            "\u001b[1m249/249\u001b[0m \u001b[32m━━━━━━━━━━━━━━━━━━━━\u001b[0m\u001b[37m\u001b[0m \u001b[1m3s\u001b[0m 9ms/step - accuracy: 1.0000 - loss: 0.0018\n",
            "Epoch 11/20\n",
            "\u001b[1m249/249\u001b[0m \u001b[32m━━━━━━━━━━━━━━━━━━━━\u001b[0m\u001b[37m\u001b[0m \u001b[1m2s\u001b[0m 9ms/step - accuracy: 1.0000 - loss: 0.0014\n",
            "Epoch 12/20\n",
            "\u001b[1m249/249\u001b[0m \u001b[32m━━━━━━━━━━━━━━━━━━━━\u001b[0m\u001b[37m\u001b[0m \u001b[1m2s\u001b[0m 9ms/step - accuracy: 1.0000 - loss: 0.0010\n",
            "Epoch 13/20\n",
            "\u001b[1m249/249\u001b[0m \u001b[32m━━━━━━━━━━━━━━━━━━━━\u001b[0m\u001b[37m\u001b[0m \u001b[1m2s\u001b[0m 8ms/step - accuracy: 1.0000 - loss: 8.1472e-04\n",
            "Epoch 14/20\n",
            "\u001b[1m249/249\u001b[0m \u001b[32m━━━━━━━━━━━━━━━━━━━━\u001b[0m\u001b[37m\u001b[0m \u001b[1m2s\u001b[0m 9ms/step - accuracy: 1.0000 - loss: 6.2681e-04\n",
            "Epoch 15/20\n",
            "\u001b[1m249/249\u001b[0m \u001b[32m━━━━━━━━━━━━━━━━━━━━\u001b[0m\u001b[37m\u001b[0m \u001b[1m3s\u001b[0m 9ms/step - accuracy: 1.0000 - loss: 4.9909e-04\n",
            "Epoch 16/20\n",
            "\u001b[1m249/249\u001b[0m \u001b[32m━━━━━━━━━━━━━━━━━━━━\u001b[0m\u001b[37m\u001b[0m \u001b[1m3s\u001b[0m 10ms/step - accuracy: 1.0000 - loss: 4.1267e-04\n",
            "Epoch 17/20\n",
            "\u001b[1m249/249\u001b[0m \u001b[32m━━━━━━━━━━━━━━━━━━━━\u001b[0m\u001b[37m\u001b[0m \u001b[1m2s\u001b[0m 9ms/step - accuracy: 1.0000 - loss: 3.3541e-04\n",
            "Epoch 18/20\n",
            "\u001b[1m249/249\u001b[0m \u001b[32m━━━━━━━━━━━━━━━━━━━━\u001b[0m\u001b[37m\u001b[0m \u001b[1m2s\u001b[0m 9ms/step - accuracy: 1.0000 - loss: 2.6728e-04\n",
            "Epoch 19/20\n",
            "\u001b[1m249/249\u001b[0m \u001b[32m━━━━━━━━━━━━━━━━━━━━\u001b[0m\u001b[37m\u001b[0m \u001b[1m3s\u001b[0m 9ms/step - accuracy: 1.0000 - loss: 2.2851e-04\n",
            "Epoch 20/20\n",
            "\u001b[1m249/249\u001b[0m \u001b[32m━━━━━━━━━━━━━━━━━━━━\u001b[0m\u001b[37m\u001b[0m \u001b[1m3s\u001b[0m 9ms/step - accuracy: 1.0000 - loss: 1.7947e-04\n"
          ]
        },
        {
          "output_type": "execute_result",
          "data": {
            "text/plain": [
              "<keras.src.callbacks.history.History at 0x784f12d72680>"
            ]
          },
          "metadata": {},
          "execution_count": 15
        }
      ],
      "source": [
        "model.fit(X_train,y_train,epochs=20,batch_size=16)"
      ]
    },
    {
      "cell_type": "code",
      "execution_count": null,
      "metadata": {
        "colab": {
          "base_uri": "https://localhost:8080/"
        },
        "id": "snvC77MSZ_-h",
        "outputId": "4dab0098-0273-4153-c6b7-cc35e5ef49cb"
      },
      "outputs": [
        {
          "output_type": "stream",
          "name": "stdout",
          "text": [
            "\u001b[1m125/125\u001b[0m \u001b[32m━━━━━━━━━━━━━━━━━━━━\u001b[0m\u001b[37m\u001b[0m \u001b[1m3s\u001b[0m 13ms/step - accuracy: 1.0000 - loss: 1.4096e-04\n"
          ]
        },
        {
          "output_type": "execute_result",
          "data": {
            "text/plain": [
              "[0.0001608251768629998, 1.0]"
            ]
          },
          "metadata": {},
          "execution_count": 16
        }
      ],
      "source": [
        "model.evaluate(X_test,y_test)"
      ]
    },
    {
      "cell_type": "code",
      "execution_count": null,
      "metadata": {
        "colab": {
          "base_uri": "https://localhost:8080/",
          "height": 281
        },
        "id": "doO8oeLnaBlw",
        "outputId": "467fcf27-912b-4bb5-db9f-e7e8783f8eae"
      },
      "outputs": [
        {
          "output_type": "execute_result",
          "data": {
            "text/plain": [
              "array([[[255, 255, 255],\n",
              "        [255, 255, 255],\n",
              "        [255, 255, 255],\n",
              "        ...,\n",
              "        [255, 255, 255],\n",
              "        [255, 255, 255],\n",
              "        [255, 255, 255]],\n",
              "\n",
              "       [[255, 255, 255],\n",
              "        [255, 255, 255],\n",
              "        [255, 255, 255],\n",
              "        ...,\n",
              "        [255, 255, 255],\n",
              "        [255, 255, 255],\n",
              "        [255, 255, 255]],\n",
              "\n",
              "       [[255, 255, 255],\n",
              "        [255, 255, 255],\n",
              "        [255, 255, 255],\n",
              "        ...,\n",
              "        [255, 255, 255],\n",
              "        [255, 255, 255],\n",
              "        [255, 255, 255]],\n",
              "\n",
              "       ...,\n",
              "\n",
              "       [[255, 255, 255],\n",
              "        [255, 255, 255],\n",
              "        [255, 255, 255],\n",
              "        ...,\n",
              "        [255, 255, 255],\n",
              "        [255, 255, 255],\n",
              "        [255, 255, 255]],\n",
              "\n",
              "       [[255, 255, 255],\n",
              "        [255, 255, 255],\n",
              "        [255, 255, 255],\n",
              "        ...,\n",
              "        [255, 255, 255],\n",
              "        [255, 255, 255],\n",
              "        [255, 255, 255]],\n",
              "\n",
              "       [[255, 255, 255],\n",
              "        [255, 255, 255],\n",
              "        [255, 255, 255],\n",
              "        ...,\n",
              "        [255, 255, 255],\n",
              "        [255, 255, 255],\n",
              "        [255, 255, 255]]], dtype=uint8)"
            ],
            "text/html": [
              "<style>\n",
              "      .ndarray_repr .ndarray_raw_data {\n",
              "        display: none;\n",
              "      }\n",
              "      .ndarray_repr.show_array .ndarray_raw_data {\n",
              "        display: block;\n",
              "      }\n",
              "      .ndarray_repr.show_array .ndarray_image_preview {\n",
              "        display: none;\n",
              "      }\n",
              "      </style>\n",
              "      <div id=\"id-4f21bfdc-e065-4ebf-9bcc-740f275d4736\" class=\"ndarray_repr\"><pre>ndarray (240, 320, 3) <button style=\"padding: 0 2px;\">show data</button></pre><img src=\"data:image/png;base64,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\" class=\"ndarray_image_preview\" /><pre class=\"ndarray_raw_data\">array([[[255, 255, 255],\n",
              "        [255, 255, 255],\n",
              "        [255, 255, 255],\n",
              "        ...,\n",
              "        [255, 255, 255],\n",
              "        [255, 255, 255],\n",
              "        [255, 255, 255]],\n",
              "\n",
              "       [[255, 255, 255],\n",
              "        [255, 255, 255],\n",
              "        [255, 255, 255],\n",
              "        ...,\n",
              "        [255, 255, 255],\n",
              "        [255, 255, 255],\n",
              "        [255, 255, 255]],\n",
              "\n",
              "       [[255, 255, 255],\n",
              "        [255, 255, 255],\n",
              "        [255, 255, 255],\n",
              "        ...,\n",
              "        [255, 255, 255],\n",
              "        [255, 255, 255],\n",
              "        [255, 255, 255]],\n",
              "\n",
              "       ...,\n",
              "\n",
              "       [[255, 255, 255],\n",
              "        [255, 255, 255],\n",
              "        [255, 255, 255],\n",
              "        ...,\n",
              "        [255, 255, 255],\n",
              "        [255, 255, 255],\n",
              "        [255, 255, 255]],\n",
              "\n",
              "       [[255, 255, 255],\n",
              "        [255, 255, 255],\n",
              "        [255, 255, 255],\n",
              "        ...,\n",
              "        [255, 255, 255],\n",
              "        [255, 255, 255],\n",
              "        [255, 255, 255]],\n",
              "\n",
              "       [[255, 255, 255],\n",
              "        [255, 255, 255],\n",
              "        [255, 255, 255],\n",
              "        ...,\n",
              "        [255, 255, 255],\n",
              "        [255, 255, 255],\n",
              "        [255, 255, 255]]], dtype=uint8)</pre></div><script>\n",
              "      (() => {\n",
              "      const titles = ['show data', 'hide data'];\n",
              "      let index = 0\n",
              "      document.querySelector('#id-4f21bfdc-e065-4ebf-9bcc-740f275d4736 button').onclick = (e) => {\n",
              "        document.querySelector('#id-4f21bfdc-e065-4ebf-9bcc-740f275d4736').classList.toggle('show_array');\n",
              "        index = (++index) % 2;\n",
              "        document.querySelector('#id-4f21bfdc-e065-4ebf-9bcc-740f275d4736 button').textContent = titles[index];\n",
              "        e.preventDefault();\n",
              "        e.stopPropagation();\n",
              "      }\n",
              "      })();\n",
              "    </script>"
            ]
          },
          "metadata": {},
          "execution_count": 17
        }
      ],
      "source": [
        "imgpath=\"/content/drive/MyDrive/Luminar_Project/Car Brand Detection/test_sets/Mercedes/Mercedes-Benz_SL Class_2017_151_19_570_55_8_73_51_182_16_RWD_2_2_Convertible_kKz.jpg\"\n",
        "img=imread(imgpath)\n",
        "img"
      ]
    },
    {
      "cell_type": "code",
      "execution_count": null,
      "metadata": {
        "id": "ExPoOVVRa04a"
      },
      "outputs": [],
      "source": [
        "img=resize(img,(150,150,1))"
      ]
    },
    {
      "cell_type": "code",
      "execution_count": null,
      "metadata": {
        "colab": {
          "base_uri": "https://localhost:8080/"
        },
        "id": "_io4Wgcba3_x",
        "outputId": "210a7dd4-a368-44e7-ce78-51df1a710e7e"
      },
      "outputs": [
        {
          "output_type": "execute_result",
          "data": {
            "text/plain": [
              "(3977, 150, 150, 1)"
            ]
          },
          "metadata": {},
          "execution_count": 19
        }
      ],
      "source": [
        "X_train.shape"
      ]
    },
    {
      "cell_type": "code",
      "execution_count": null,
      "metadata": {
        "colab": {
          "base_uri": "https://localhost:8080/"
        },
        "id": "tHwZ0674a3vL",
        "outputId": "72d6278d-b96e-4142-fc14-17c21089aacb"
      },
      "outputs": [
        {
          "output_type": "stream",
          "name": "stdout",
          "text": [
            "\u001b[1m1/1\u001b[0m \u001b[32m━━━━━━━━━━━━━━━━━━━━\u001b[0m\u001b[37m\u001b[0m \u001b[1m1s\u001b[0m 640ms/step\n"
          ]
        },
        {
          "output_type": "execute_result",
          "data": {
            "text/plain": [
              "array([[9.0973452e-07, 5.8649228e-05, 3.0530018e-06, 9.9993742e-01]],\n",
              "      dtype=float32)"
            ]
          },
          "metadata": {},
          "execution_count": 20
        }
      ],
      "source": [
        "img=img.reshape(1,150,150,1)\n",
        "y_new=model.predict(img)\n",
        "y_new\n"
      ]
    },
    {
      "cell_type": "code",
      "execution_count": null,
      "metadata": {
        "colab": {
          "base_uri": "https://localhost:8080/"
        },
        "id": "DugMuRzTa3nF",
        "outputId": "90e8bffd-0e78-4972-d2dd-c2a0ca1d5d19"
      },
      "outputs": [
        {
          "output_type": "execute_result",
          "data": {
            "text/plain": [
              "array([3])"
            ]
          },
          "metadata": {},
          "execution_count": 21
        }
      ],
      "source": [
        "ind=y_new.argmax(axis=1)\n",
        "ind"
      ]
    },
    {
      "cell_type": "code",
      "execution_count": null,
      "metadata": {
        "colab": {
          "base_uri": "https://localhost:8080/",
          "height": 36
        },
        "id": "RglA8-am2gD-",
        "outputId": "0fc5aad1-a726-4f80-9212-298976630e6d"
      },
      "outputs": [
        {
          "output_type": "execute_result",
          "data": {
            "text/plain": [
              "'Mercedes'"
            ],
            "application/vnd.google.colaboratory.intrinsic+json": {
              "type": "string"
            }
          },
          "metadata": {},
          "execution_count": 22
        }
      ],
      "source": [
        "categories[ind.item()]"
      ]
    },
    {
      "cell_type": "code",
      "execution_count": null,
      "metadata": {
        "colab": {
          "base_uri": "https://localhost:8080/"
        },
        "id": "tih3T7kCVk16",
        "outputId": "7d7c2fe9-2711-4c33-b464-170d25b4d031"
      },
      "outputs": [
        {
          "output_type": "stream",
          "name": "stderr",
          "text": [
            "WARNING:absl:You are saving your model as an HDF5 file via `model.save()` or `keras.saving.save_model(model)`. This file format is considered legacy. We recommend using instead the native Keras format, e.g. `model.save('my_model.keras')` or `keras.saving.save_model(model, 'my_model.keras')`. \n"
          ]
        }
      ],
      "source": [
        "model.save(\"/content/drive/MyDrive/Luminar_Project/Car Brand Detection/prediction.h5\")"
      ]
    }
  ],
  "metadata": {
    "accelerator": "GPU",
    "colab": {
      "gpuType": "T4",
      "provenance": []
    },
    "kernelspec": {
      "display_name": "Python 3",
      "name": "python3"
    },
    "language_info": {
      "name": "python"
    }
  },
  "nbformat": 4,
  "nbformat_minor": 0
}